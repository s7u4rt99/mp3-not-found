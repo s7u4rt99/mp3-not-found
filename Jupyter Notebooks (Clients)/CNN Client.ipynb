{
 "cells": [
  {
   "cell_type": "markdown",
   "id": "972ede4e",
   "metadata": {},
   "source": [
    "### Instructions\n",
    "1. Make sure you have the ```lb.pkl``` and ```model_gray.pth``` files in the same directory as this jupyter notebook\n",
    "2. Make sure you have changed the ```IP_ADDRESS``` variable.\n",
    "3. Make sure your mosquitto is running\n",
    "4. Ideally, you should see \"Connected\" printed when runnning the 2nd block of code"
   ]
  },
  {
   "cell_type": "code",
   "execution_count": 1,
   "id": "fb4f25be",
   "metadata": {},
   "outputs": [
    {
     "name": "stderr",
     "output_type": "stream",
     "text": [
      "C:\\Users\\neowe\\miniconda3\\envs\\cs4243\\lib\\site-packages\\sklearn\\base.py:329: UserWarning: Trying to unpickle estimator LabelBinarizer from version 1.0.2 when using version 1.1.2. This might lead to breaking code or invalid results. Use at your own risk. For more info please refer to:\n",
      "https://scikit-learn.org/stable/model_persistence.html#security-maintainability-limitations\n",
      "  warnings.warn(\n"
     ]
    }
   ],
   "source": [
    "import paho.mqtt.client as mqtt\n",
    "import numpy as np\n",
    "from PIL import Image\n",
    "import json\n",
    "from os import listdir\n",
    "from os.path import join\n",
    "import os\n",
    "import cv2\n",
    "import torch\n",
    "import joblib\n",
    "import torch.nn as nn\n",
    "import numpy as np\n",
    "import torch.nn.functional as F\n",
    "import time\n",
    "import requests\n",
    "\n",
    "# Phone\n",
    "IP_ADDRESS = \"192.168.43.172\" # Laptop IP - obtained through ipconfig in cmd prompt\n",
    "\n",
    "USERNAME = os.getenv('_USERNAME')\n",
    "PASSWORD = os.getenv('_PASSWORD')\n",
    "\n",
    "global repeat, alphabet\n",
    "alphabet = \"\"\n",
    "repeat = 0\n",
    "### --------------------------Model from Aryan---------------------------------\n",
    "# load label binarizer\n",
    "lb = joblib.load('lb.pkl')\n",
    "\n",
    "class ASTCNN(nn.Module):\n",
    "    def __init__(self):\n",
    "        super(ASTCNN, self).__init__()\n",
    "        self.conv1 = nn.Conv2d(1, 16, 5)\n",
    "        self.conv2 = nn.Conv2d(16, 32, 5)\n",
    "        self.conv3 = nn.Conv2d(32, 64, 3)\n",
    "        self.conv4 = nn.Conv2d(64, 128, 3)\n",
    "        self.conv5 = nn.Conv2d(128, 256, 3)\n",
    "        \n",
    "        self.fc1 = nn.Linear(256, 512)\n",
    "        self.fc2 = nn.Linear(512, len(lb.classes_))\n",
    "        \n",
    "        self.pool = nn.MaxPool2d(2, 2)\n",
    "    \n",
    "    def forward(self, x):\n",
    "        x = self.pool(F.relu(self.conv1(x)))\n",
    "        x = self.pool(F.relu(self.conv2(x)))\n",
    "        x = self.pool(F.relu(self.conv3(x)))\n",
    "        x = self.pool(F.relu(self.conv4(x)))\n",
    "        x = self.pool(F.relu(self.conv5(x)))\n",
    "        bs, _, _, _ = x.shape\n",
    "        x = F.adaptive_avg_pool2d(x, 1).reshape(bs, -1)\n",
    "        x = F.relu(self.fc1(x))\n",
    "        x = self.fc2(x)\n",
    "        return x\n",
    "\n",
    "def setup(hostname):\n",
    "    client = mqtt.Client()\n",
    "    client.on_connect = on_connect\n",
    "    client.on_message = on_message\n",
    "    client.username_pw_set(USERNAME, PASSWORD)\n",
    "    client.connect(hostname)\n",
    "    client.loop_start()\n",
    "    return client\n",
    "\n",
    "def on_connect(client, userdata, flags, rc):\n",
    "    if rc == 0:\n",
    "        print(\"Connected.\")\n",
    "        client.subscribe(\"Group_25/CNN/Input\")\n",
    "    else:\n",
    "        print(\"Failed to Connect. Error code: %d.\" % rc)\n",
    "        \n",
    "def hand_area(img):\n",
    "    hand = img[100:324, 100:324]\n",
    "    hand = cv2.resize(hand, (224,224))\n",
    "    return hand\n",
    "\n",
    "def on_message(client, userdata, msg):\n",
    "    global alphabet, repeat\n",
    "    # Receiving Frame here for visualization\n",
    "    # Ideally, we should just receive the hand part. \n",
    "    frame = np.frombuffer(msg.payload, dtype=np.uint8)\n",
    "    frame = frame.reshape(400, 400)\n",
    "    \n",
    "    cv2.rectangle(frame, (100, 100), (324, 324), (20, 34, 255), 2)\n",
    "    image = hand_area(frame)\n",
    "\n",
    "    image = torch.tensor(image, dtype=torch.float)\n",
    "    image = image.unsqueeze(0)\n",
    "    image = image.unsqueeze(0)\n",
    "    \n",
    "    outputs = model(image)\n",
    "    outputs = nn.Softmax(dim = -1)(outputs)\n",
    "    prob, preds = torch.max(outputs.data, 1)\n",
    "    if prob > 0.5 and alphabet == lb.classes_[preds] and alphabet != 'nothing':\n",
    "        repeat += 1\n",
    "    else:\n",
    "        alphabet = lb.classes_[preds]\n",
    "        repeat = 0\n",
    "    if repeat > 5:\n",
    "        repeat = 0\n",
    "        print(alphabet)\n",
    "        client.publish(\"Group_25/NLP/Input\", alphabet.lower())        \n",
    "        \n",
    "    frame_size = frame.shape\n",
    "    cv2.putText(frame, f\"{lb.classes_[preds]}\", (10, 30), cv2.FONT_HERSHEY_SIMPLEX, 0.9, (0, 0, 255), 2)\n",
    "    cv2.imshow('image', frame)\n",
    "    cv2.waitKey(1)\n",
    "\n"
   ]
  },
  {
   "cell_type": "code",
   "execution_count": 2,
   "id": "a7a79d42",
   "metadata": {},
   "outputs": [
    {
     "name": "stdout",
     "output_type": "stream",
     "text": [
      "Model Loaded\n",
      "Connected.\n"
     ]
    }
   ],
   "source": [
    "model = ASTCNN()\n",
    "model.load_state_dict(torch.load('model_gray.pth', map_location='cpu'))\n",
    "print(\"Model Loaded\")\n",
    "if __name__ == \"__main__\":\n",
    "    client = setup(IP_ADDRESS) \n",
    "    "
   ]
  },
  {
   "cell_type": "code",
   "execution_count": null,
   "id": "2848357c",
   "metadata": {},
   "outputs": [],
   "source": []
  }
 ],
 "metadata": {
  "kernelspec": {
   "display_name": "Python 3 (ipykernel)",
   "language": "python",
   "name": "python3"
  },
  "language_info": {
   "codemirror_mode": {
    "name": "ipython",
    "version": 3
   },
   "file_extension": ".py",
   "mimetype": "text/x-python",
   "name": "python",
   "nbconvert_exporter": "python",
   "pygments_lexer": "ipython3",
   "version": "3.9.12"
  }
 },
 "nbformat": 4,
 "nbformat_minor": 5
}
