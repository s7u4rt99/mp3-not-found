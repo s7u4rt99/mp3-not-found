{
 "cells": [
  {
   "cell_type": "markdown",
   "id": "a4524d1c",
   "metadata": {},
   "source": [
    "### Instructions\n",
    "1. Make sure you have changed the ```IP_ADDRESS``` and ```CAMERA_IP_ADDRESS``` variables.\n",
    "2. Make sure your mosquitto is running\n",
    "3. Make sure IP Webcam App is running - press Start server in app\n",
    "4. Ideally, you should see \"Connected\" printed when runnning the 2nd block of code"
   ]
  },
  {
   "cell_type": "code",
   "execution_count": 1,
   "id": "d33e3c9e",
   "metadata": {},
   "outputs": [],
   "source": [
    "import cv2\n",
    "import urllib\n",
    "import numpy as np\n",
    "import base64\n",
    "import requests\n",
    "from requests.auth import HTTPBasicAuth\n",
    "import os\n",
    "import paho.mqtt.client as mqtt\n",
    "import numpy as np\n",
    "from PIL import Image\n",
    "import json\n",
    "\n",
    "IP_ADDRESS = \"192.168.43.172\" # Laptop IP - obtained through ipconfig in cmd prompt\n",
    "\n",
    "URL = \"http://192.168.43.1:8080/shot.jpg?\"\n",
    "CAMERA_IP_ADDRESS = \"192.168.1.125:8080\" # URL obtained from IP Webcam App\n",
    "\n",
    "USERNAME = os.getenv('_USERNAME')\n",
    "PASSWORD = os.getenv('_PASSWORD')"
   ]
  },
  {
   "cell_type": "code",
   "execution_count": 2,
   "id": "4eee60e4",
   "metadata": {},
   "outputs": [
    {
     "name": "stdout",
     "output_type": "stream",
     "text": [
      "Connected.\n"
     ]
    }
   ],
   "source": [
    "auth = HTTPBasicAuth(USERNAME, PASSWORD)\n",
    "\n",
    "def setup(hostname):\n",
    "    client = mqtt.Client()\n",
    "    client.on_connect = on_connect\n",
    "    client.on_message = on_message\n",
    "    client.username_pw_set(USERNAME, PASSWORD)\n",
    "    client.connect(hostname)\n",
    "    client.loop_start()\n",
    "    return client\n",
    "\n",
    "def on_connect(client, userdata, flags, rc):\n",
    "    if rc == 0:\n",
    "        print(\"Connected.\")\n",
    "        client.subscribe(\"Group_25/ImageRec/Notify\")\n",
    "    else:\n",
    "        print(\"Failed to Connect. Error code: %d.\" % rc)\n",
    "        \n",
    "def on_message(client, userdata, msg):\n",
    "    if msg.payload == b'1':\n",
    "        try:\n",
    "            img_res = requests.get(f\"http://{CAMERA_IP_ADDRESS}/shot.jpg?\", auth=auth)\n",
    "            frame = np.array(bytearray(img_res.content), dtype=np.uint8)\n",
    "            frame = cv2.imdecode(frame, -1)\n",
    "            frame = cv2.cvtColor(frame, cv2.COLOR_BGR2GRAY) # Convert to grayscale\n",
    "            frame = frame.tobytes()\n",
    "            # Just publish the jpg image to the client\n",
    "            client.publish(\"Group_25/CNN/Input\", frame)\n",
    "        except:\n",
    "            print(\"Your IP Camera isn't on!\")\n",
    "\n",
    "def main():\n",
    "    client = setup(IP_ADDRESS)\n",
    "\n",
    "if __name__ == \"__main__\":\n",
    "    main()\n"
   ]
  },
  {
   "cell_type": "code",
   "execution_count": null,
   "id": "5f5a7718",
   "metadata": {},
   "outputs": [],
   "source": []
  }
 ],
 "metadata": {
  "kernelspec": {
   "display_name": "Python 3 (ipykernel)",
   "language": "python",
   "name": "python3"
  },
  "language_info": {
   "codemirror_mode": {
    "name": "ipython",
    "version": 3
   },
   "file_extension": ".py",
   "mimetype": "text/x-python",
   "name": "python",
   "nbconvert_exporter": "python",
   "pygments_lexer": "ipython3",
   "version": "3.9.12"
  }
 },
 "nbformat": 4,
 "nbformat_minor": 5
}
